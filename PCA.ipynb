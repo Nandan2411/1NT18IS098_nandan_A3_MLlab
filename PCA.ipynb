{
 "cells": [
  {
   "cell_type": "code",
   "execution_count": 2,
   "id": "321bf7df",
   "metadata": {},
   "outputs": [
    {
     "ename": "NameError",
     "evalue": "name 'X' is not defined",
     "output_type": "error",
     "traceback": [
      "\u001b[1;31m---------------------------------------------------------------------------\u001b[0m",
      "\u001b[1;31mNameError\u001b[0m                                 Traceback (most recent call last)",
      "\u001b[1;32m~\\AppData\\Local\\Temp/ipykernel_6812/2090587683.py\u001b[0m in \u001b[0;36m<module>\u001b[1;34m\u001b[0m\n\u001b[0;32m     10\u001b[0m \u001b[1;33m\u001b[0m\u001b[0m\n\u001b[0;32m     11\u001b[0m \u001b[1;31m#standardize the data\u001b[0m\u001b[1;33m\u001b[0m\u001b[1;33m\u001b[0m\u001b[0m\n\u001b[1;32m---> 12\u001b[1;33m \u001b[0mX_scaled\u001b[0m \u001b[1;33m=\u001b[0m \u001b[0mStandardScaler\u001b[0m\u001b[1;33m(\u001b[0m\u001b[1;33m)\u001b[0m\u001b[1;33m.\u001b[0m\u001b[0mfit_transform\u001b[0m\u001b[1;33m(\u001b[0m\u001b[0mX\u001b[0m\u001b[1;33m)\u001b[0m\u001b[1;33m\u001b[0m\u001b[1;33m\u001b[0m\u001b[0m\n\u001b[0m\u001b[0;32m     13\u001b[0m \u001b[0mX_scaled\u001b[0m\u001b[1;33m[\u001b[0m\u001b[1;33m:\u001b[0m\u001b[1;36m5\u001b[0m\u001b[1;33m]\u001b[0m\u001b[1;33m\u001b[0m\u001b[1;33m\u001b[0m\u001b[0m\n\u001b[0;32m     14\u001b[0m \u001b[1;33m\u001b[0m\u001b[0m\n",
      "\u001b[1;31mNameError\u001b[0m: name 'X' is not defined"
     ]
    }
   ],
   "source": [
    "import numpy as np \n",
    "import pandas as pd\n",
    "import matplotlib.pyplot as plt\n",
    "import seaborn as sns\n",
    "from sklearn.preprocessing import StandardScaler\n",
    "\n",
    "#read dataset\n",
    "df=pd.read_csv('iris.csv')\n",
    "df.head()\n",
    "\n",
    "#standardize the data \n",
    "X_scaled = StandardScaler().fit_transform(X)\n",
    "X_scaled[:5]\n",
    "\n",
    "y=df['species']\n",
    "\n",
    "\n",
    "#covariance matrix\n",
    "features = X_scaled.T\n",
    "cov_matrix = np.cov(features)\n",
    "cov_matrix[:5]\n",
    "\n",
    "#calculating eigen values and eigen vector\n",
    "values, vectors = np.linalg.eig(cov_matrix)\n",
    "values[:5]\n",
    "\n",
    "vectors[:5]\n",
    "\n",
    "explained_variances = []\n",
    "for i in range(len(values)):\n",
    "    explained_variances.append((values[i] / np.sum(values))*100)\n",
    "\n",
    "print(\"variances of each feature\",explained_variances)\n",
    "\n",
    "#bar graph\n",
    "plt.figure(figsize=(8,4))\n",
    "plt.bar(range(4),explained_variances, alpha=0.6)\n",
    "plt.ylabel('Percentage of explained variance')\n",
    "plt.xlabel('Dimensions')\n",
    "\n",
    "\n",
    "\n",
    "\n",
    "projected_1 = X_scaled.dot(vectors.T[0])\n",
    "projected_2 = X_scaled.dot(vectors.T[1])\n",
    "res = pd.DataFrame(projected_1, columns=['PC1'])\n",
    "res['PC2'] = projected_2\n",
    "res['Y'] = y\n",
    "res.head()\n",
    "\n",
    "\n",
    "#scatter graph\n",
    "\n",
    "sns.FacetGrid(res, hue=\"Y\", height=6).map(plt.scatter, 'PC1', 'PC2').add_legend()\n",
    "plt.show()"
   ]
  },
  {
   "cell_type": "code",
   "execution_count": null,
   "id": "f99c9960",
   "metadata": {},
   "outputs": [],
   "source": []
  }
 ],
 "metadata": {
  "kernelspec": {
   "display_name": "Python 3 (ipykernel)",
   "language": "python",
   "name": "python3"
  },
  "language_info": {
   "codemirror_mode": {
    "name": "ipython",
    "version": 3
   },
   "file_extension": ".py",
   "mimetype": "text/x-python",
   "name": "python",
   "nbconvert_exporter": "python",
   "pygments_lexer": "ipython3",
   "version": "3.9.7"
  }
 },
 "nbformat": 4,
 "nbformat_minor": 5
}
