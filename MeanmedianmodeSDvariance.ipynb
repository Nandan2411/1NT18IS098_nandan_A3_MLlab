{
 "cells": [
  {
   "cell_type": "code",
   "execution_count": 1,
   "metadata": {},
   "outputs": [
    {
     "name": "stdout",
     "output_type": "stream",
     "text": [
      "Enter the size of list : 5\n",
      "Enter element :1\n",
      "Enter element :2\n",
      "Enter element :3\n",
      "Enter element :4\n",
      "Enter element :5\n",
      "Mean of the list is : 3.0\n"
     ]
    }
   ],
   "source": [
    "n = int(input(\"Enter the size of list : \"))\n",
    "list = []\n",
    "for i in range(n):\n",
    "    tmp= int(input(\"Enter element :\"))\n",
    "    list.append(tmp)\n",
    "sum=0;\n",
    "for i in (list):\n",
    "        sum=sum+i\n",
    "print(\"Mean of the list is :\", end=\" \")\n",
    "print(sum/n)"
   ]
  },
  {
   "cell_type": "code",
   "execution_count": 2,
   "metadata": {},
   "outputs": [
    {
     "name": "stdout",
     "output_type": "stream",
     "text": [
      "Median of the list is :  3\n"
     ]
    }
   ],
   "source": [
    "if(n % 2 == 0):\n",
    "    tmp = list[round(n / 2)] + list[round(n / 2) - 1]\n",
    "    tmp = tmp / 2\n",
    "    print(\"Median of the list is : \", end = \" \")\n",
    "    print(tmp)\n",
    "else:\n",
    "    avg = int(list[round(n / 2)])\n",
    "    print(\"Median of the list is : \", end = \" \")\n",
    "    print(avg)"
   ]
  },
  {
   "cell_type": "code",
   "execution_count": 3,
   "metadata": {},
   "outputs": [
    {
     "name": "stdout",
     "output_type": "stream",
     "text": [
      "Mode of the given list is  5\n"
     ]
    }
   ],
   "source": [
    "dict = {}\n",
    "for i in list:\n",
    "    if(i in dict):\n",
    "        dict[i] += 1\n",
    "    else:\n",
    "        dict[i] = 1\n",
    "ele = 0\n",
    "max = 0\n",
    "for key, value in dict.items():\n",
    "    if(value > max):\n",
    "        ele = key\n",
    "print(\"Mode of the given list is \", end = \" \")\n",
    "print(ele)"
   ]
  },
  {
   "cell_type": "code",
   "execution_count": 21,
   "metadata": {},
   "outputs": [],
   "source": [
    "my_list = [10,20,30]"
   ]
  },
  {
   "cell_type": "code",
   "execution_count": 22,
   "metadata": {},
   "outputs": [],
   "source": [
    "def std_dev(list1):\n",
    "    s=0\n",
    "    dev=0\n",
    "    for i in list1:\n",
    "        s=s+i\n",
    "    m=s/len(list1)\n",
    "    print(\"Mean is \"+ str(m))\n",
    "    for i in list1:\n",
    "        dev=dev+(abs(m-i))**2\n",
    "    dev=dev/len(list1)\n",
    "    print(\"Standard deviation is \"+ str(dev**(1/2)))\n",
    "    print(\"Variance is \"+ str(dev))\n"
   ]
  },
  {
   "cell_type": "code",
   "execution_count": 23,
   "metadata": {},
   "outputs": [
    {
     "name": "stdout",
     "output_type": "stream",
     "text": [
      "Mean is 20.0\n",
      "Standard deviation is 8.16496580927726\n",
      "Variance is 66.66666666666667\n"
     ]
    }
   ],
   "source": [
    "std_dev(my_list)"
   ]
  },
  {
   "cell_type": "code",
   "execution_count": null,
   "metadata": {},
   "outputs": [],
   "source": []
  }
 ],
 "metadata": {
  "kernelspec": {
   "display_name": "Python 3",
   "language": "python",
   "name": "python3"
  },
  "language_info": {
   "codemirror_mode": {
    "name": "ipython",
    "version": 3
   },
   "file_extension": ".py",
   "mimetype": "text/x-python",
   "name": "python",
   "nbconvert_exporter": "python",
   "pygments_lexer": "ipython3",
   "version": "3.7.4"
  }
 },
 "nbformat": 4,
 "nbformat_minor": 2
}
